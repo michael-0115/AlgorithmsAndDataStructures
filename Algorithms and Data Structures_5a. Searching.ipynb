{
 "cells": [
  {
   "cell_type": "code",
   "execution_count": 2,
   "metadata": {},
   "outputs": [
    {
     "data": {
      "text/plain": [
       "array([ 2.56378787,  0.03641062,  0.32179854, -0.90716421, -0.59915316,\n",
       "       -0.74150826, -0.64562579,  0.17255497, -1.59165154,  1.27879635,\n",
       "        1.21298556, -0.06174448,  0.87125003, -0.20551027,  0.78299299,\n",
       "        1.28473386,  1.31564916, -0.19722603, -0.07969741, -1.43406961,\n",
       "        0.78001137, -0.3729241 , -1.22213848, -0.39264089,  0.53787786,\n",
       "       -1.43400415, -0.53546107, -0.85093539, -0.3437877 , -0.32826444,\n",
       "       -1.51842151, -0.59652117,  1.35023333,  1.48871639, -1.17770507,\n",
       "        0.22450022,  0.38912371, -1.29077128,  2.65016671, -1.42081392,\n",
       "        0.25013888,  2.30046315,  1.39587148, -1.1604513 ,  0.92461812,\n",
       "        0.84248362, -0.27406337,  1.54641811,  0.33086538,  0.38267126,\n",
       "        0.72560592,  1.01383169, -0.14525114, -0.08890758, -1.19439556,\n",
       "        0.98193223, -0.70832752,  0.65530571,  0.30076959,  0.67987149,\n",
       "       -0.49206888, -0.24137653,  0.63484362, -0.3007852 , -0.94256725,\n",
       "       -0.6216532 , -0.44616722,  0.34173783, -1.08658348,  0.54377309,\n",
       "       -1.12854687, -0.05408701, -0.46795979,  0.70873411, -0.77321963,\n",
       "       -0.84101962,  0.36103081,  0.2490692 ,  0.95337542, -0.30144494,\n",
       "        1.59799948, -0.79378296, -0.60869489,  1.31795772,  1.90623579,\n",
       "        1.43408676,  1.27752314, -0.26768995,  0.94395681,  1.62299983,\n",
       "       -2.02962354, -0.22110312, -0.9794351 ,  1.31112943,  0.48386035,\n",
       "       -0.10081427,  0.70485269,  0.16176641, -1.605351  ,  1.7536696 ])"
      ]
     },
     "execution_count": 2,
     "metadata": {},
     "output_type": "execute_result"
    }
   ],
   "source": [
    "import numpy as np\n",
    "\n",
    "np.random.normal(0, 1, 100)"
   ]
  },
  {
   "cell_type": "markdown",
   "metadata": {},
   "source": [
    "#### 5.4. The Binary Search"
   ]
  },
  {
   "cell_type": "code",
   "execution_count": 3,
   "metadata": {},
   "outputs": [
    {
     "name": "stdout",
     "output_type": "stream",
     "text": [
      "False\n",
      "True\n"
     ]
    }
   ],
   "source": [
    "def binarySearch (alist , item):\n",
    "    first = 0\n",
    "    last = len(alist)-1 \n",
    "    found = False\n",
    "    \n",
    "    while first <= last and not found:\n",
    "        midpoint = (first+ last)//2 \n",
    "        if alist[midpoint] == item:\n",
    "            found = True \n",
    "        else:\n",
    "            if item < alist[midpoint]:\n",
    "                last = midpoint - 1\n",
    "            else:\n",
    "                first = midpoint + 1\n",
    "    return found \n",
    "\n",
    "testlist = [0, 1, 2, 8, 13, 17, 19, 32, 42,]\n",
    "print(binarySearch(testlist, 3))\n",
    "print(binarySearch(testlist, 13))"
   ]
  },
  {
   "cell_type": "code",
   "execution_count": 5,
   "metadata": {},
   "outputs": [
    {
     "name": "stdout",
     "output_type": "stream",
     "text": [
      "False\n",
      "True\n"
     ]
    }
   ],
   "source": [
    "#use recursion\n",
    "def binarySearch (alist , item):\n",
    "    if len(alist) ==0:\n",
    "        return False \n",
    "    else:\n",
    "        midpoint = len(alist)//2\n",
    "        if alist[midpoint] == item:\n",
    "            return True\n",
    "        else:\n",
    "            if item < alist[midpoint]:\n",
    "                return binarySearch (alist[:midpoint] , item)\n",
    "            else:\n",
    "                return binarySearch (alist[midpoint+1:] , item)\n",
    "\n",
    "testlist = [0, 1, 2, 8, 13, 17, 19, 32, 42,]\n",
    "print(binarySearch(testlist, 3))\n",
    "print(binarySearch(testlist, 13))"
   ]
  },
  {
   "cell_type": "code",
   "execution_count": 7,
   "metadata": {},
   "outputs": [
    {
     "name": "stdout",
     "output_type": "stream",
     "text": [
      "[77, 44, 55, 20, 26, 93, 17, None, None, 31, 54]\n",
      "['bird', 'goat', 'pig', 'chicken', 'dog', 'lion', 'tiger', None, None, 'cow', 'cat']\n",
      "chicken\n",
      "tiger\n",
      "duck\n",
      "None\n"
     ]
    }
   ],
   "source": [
    "\n",
    "\n",
    "class HashTable:\n",
    "    def __init__(self):\n",
    "        self.size = 11\n",
    "        self.slots = [None] * self.size\n",
    "        self.data = [None] * self.size\n",
    "\n",
    "    def put(self,key,data):\n",
    "        hashvalue = self.hashfunction(key,len(self.slots))\n",
    "\n",
    "        if self.slots[hashvalue] == None:\n",
    "            self.slots[hashvalue] = key\n",
    "            self.data[hashvalue] = data\n",
    "        else:\n",
    "            if self.slots[hashvalue] == key:\n",
    "                self.data[hashvalue] = data  #replace\n",
    "            else:\n",
    "                nextslot = self.rehash(hashvalue,len(self.slots))\n",
    "                while self.slots[nextslot] != None and \\\n",
    "                            self.slots[nextslot] != key:\n",
    "                    nextslot = self.rehash(nextslot,len(self.slots))\n",
    "\n",
    "            if self.slots[nextslot] == None:\n",
    "                self.slots[nextslot]=key\n",
    "                self.data[nextslot]=data\n",
    "            else:\n",
    "                self.data[nextslot] = data #replace\n",
    "\n",
    "    def hashfunction(self,key,size):\n",
    "         return key%size\n",
    "\n",
    "    def rehash(self,oldhash,size):\n",
    "        return (oldhash+1)%size\n",
    "\n",
    "    def get(self,key):\n",
    "        startslot = self.hashfunction(key,len(self.slots))\n",
    "\n",
    "        data = None\n",
    "        stop = False\n",
    "        found = False\n",
    "        position = startslot\n",
    "        while self.slots[position] != None and  \\\n",
    "                           not found and not stop:\n",
    "            if self.slots[position] == key:\n",
    "                found = True\n",
    "                data = self.data[position]\n",
    "            else:\n",
    "                position=self.rehash(position,len(self.slots))\n",
    "                if position == startslot:\n",
    "                    stop = True\n",
    "        return data\n",
    "\n",
    "    def __getitem__(self,key):\n",
    "        return self.get(key)\n",
    "\n",
    "    def __setitem__(self,key,data):\n",
    "        self.put(key,data)\n",
    "    #The final methods of the HashTable class provide additional dictionary functionality. \n",
    "    #We overload the __getitem__ and __setitem__ methods to allow access using``[]``. \n",
    "    #This means that once a HashTable has been created, the familiar index operator will be available. \n",
    "    #We leave the remaining methods as exercises.\n",
    "    \n",
    "H=HashTable()\n",
    "H[54]=\"cat\"\n",
    "H[26]=\"dog\"\n",
    "H[93]=\"lion\"\n",
    "H[17]=\"tiger\"\n",
    "H[77]=\"bird\"\n",
    "H[31]=\"cow\"\n",
    "H[44]=\"goat\"\n",
    "H[55]=\"pig\"\n",
    "H[20]=\"chicken\"\n",
    "print(H.slots)\n",
    "print(H.data)\n",
    "\n",
    "print(H[20])\n",
    "\n",
    "print(H[17])\n",
    "H[20]='duck'\n",
    "print(H[20])\n",
    "print(H[99])\n"
   ]
  },
  {
   "cell_type": "code",
   "execution_count": null,
   "metadata": {},
   "outputs": [],
   "source": []
  }
 ],
 "metadata": {
  "kernelspec": {
   "display_name": "Python 3",
   "language": "python",
   "name": "python3"
  },
  "language_info": {
   "codemirror_mode": {
    "name": "ipython",
    "version": 3
   },
   "file_extension": ".py",
   "mimetype": "text/x-python",
   "name": "python",
   "nbconvert_exporter": "python",
   "pygments_lexer": "ipython3",
   "version": "3.6.7"
  }
 },
 "nbformat": 4,
 "nbformat_minor": 2
}
