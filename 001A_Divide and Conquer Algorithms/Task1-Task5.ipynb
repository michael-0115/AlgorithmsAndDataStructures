{
 "cells": [
  {
   "cell_type": "markdown",
   "metadata": {},
   "source": [
    "# Find the closest pair of points in a set of points in 2-dimensional Euclidean space by using Manhattan Distance \n",
    "\n",
    "## Please noted all the code are written in Python 3.0 in jupyter notebook \n",
    "    \n",
    "## Please noted that this file only contain Task1 to Task 5 and\n",
    "## there is a Part B for Task 6 in seperated jpynb file named \"asst1_Task6.ipynb\"\n",
    "\n",
    "Find the closest pair of points in a set of points in 2-dimensional Euclidean space by using Manhattan Distance \n",
    "\n",
    "Task includes: \n",
    "\n",
    "1. ADT Point Class\n",
    "2. ADT Point Set Class\n",
    "3. (a) Closest Pair (Brute Force Implementation)         \n",
    "   (b) Closest Pair (Divide & Conquer Implementation)\n",
    "4. Runtime - Empirical Analysis\n",
    "5. Recurrence Relation\n",
    "6. (Bonus) Visualisation (optional)   ------- in Part B file"
   ]
  },
  {
   "cell_type": "markdown",
   "metadata": {},
   "source": [
    "### Import the package needed"
   ]
  },
  {
   "cell_type": "code",
   "execution_count": 1,
   "metadata": {},
   "outputs": [],
   "source": [
    "from math import *\n",
    "\n",
    "from matplotlib import pyplot as plt\n",
    "from matplotlib.pyplot import *\n",
    "matplotlib.style.use(\"ggplot\")\n",
    "\n",
    "import pandas as pd\n",
    "import random\n",
    "\n",
    "from timeit import Timer\n",
    "import timeit\n",
    "\n",
    "from bokeh.models import Label\n",
    "from bokeh.plotting import figure, output_notebook, show\n",
    "from bokeh.charts import Scatter, show\n",
    "from bokeh.models import Span\n",
    "from bokeh.palettes import Category20"
   ]
  },
  {
   "cell_type": "markdown",
   "metadata": {},
   "source": [
    "## Task 1.  ADT Point Class"
   ]
  },
  {
   "cell_type": "code",
   "execution_count": 2,
   "metadata": {},
   "outputs": [],
   "source": [
    "class Point: \n",
    "    #ADT Point Class: class for representing and manipulating x,y coordinates for the point\n",
    "    \n",
    "    def __init__(self, x, y):  \n",
    "        #create a new point at the given coordinates\n",
    "        self.x = x\n",
    "        self.y = y\n",
    "\n",
    "    def getX(self):\n",
    "        #get point's x coordinate\n",
    "        return self.x\n",
    "\n",
    "    def getY(self): \n",
    "        #get point's y coordinate\n",
    "        return self.y\n",
    "    \n",
    "    def manHattan_distance(self, other):\n",
    "        #calculate and return two points' Manhattan distance \n",
    "        d = abs(other.x - self.x) + abs(other.y - self.y)  \n",
    "        return d\n",
    "    \n",
    "    def __str__(self):\n",
    "        #print point(string representation)\n",
    "        return \"x=\" + str(self.x) + \", y=\" + str(self.y)"
   ]
  },
  {
   "cell_type": "markdown",
   "metadata": {},
   "source": [
    "## Task 2.  ADT Point Set Class &  \n",
    "## Task 3.   (a) Closest Pair (Brute Force Implementation)  (b) Closest Pair (Divide & Conquer Implementation)\n",
    "\n",
    "### Difference of Euclidean distance and Manhattan distance in finding closest pair points:\n",
    "In the assignment, we are required to use Manhattan distance to find the closest pair points instead of Euclidean distance. The part we have to change in the algorithm to accommodate Manhattan distance is in the Divide & Conquer Implementation of finding closest pair that the two points are in the different section separated by a middle point in the list. Divide & Conquer method keeps splitting points to two parts to find the smaller distance  (d) of two points. However, there may have points separated by the splitlines with the smallest distance that the Divide & Conquer method cannot find. \n",
    "Hence, we have to search if there is any smaller distance in the area with d (return by Divide & Conquer method) both side from the middle of x axis that the two points separated by the splitline and to compare it with the smallest distance got from the Divide & Conquer method to determine the ultimately result of closest pair points.  For searching the smallest distance for point within this area is to sort the points by y axis and for Euclidean distance as mathematical concept (see below picture), we only need to compare point with its next 7 points which can guarantee to get the result of smallest distance in this area with two points separated by splitline. However, in Manhattan distance, we have to compare not only point with its next 7 points but 11 points to be guaranteed to get the correct result. \n",
    "Both Euclidean distance and Manhattan distance, we don’t need to check all points with each other to get the smallest distance in the split area. But the at least number of points check is different, for Euclidean distance is check at least 7 points while for Manhattan distance is 11 points."
   ]
  },
  {
   "cell_type": "markdown",
   "metadata": {},
   "source": [
    "* see below png file for the explanation for the difference"
   ]
  },
  {
   "cell_type": "markdown",
   "metadata": {},
   "source": [
    "<img src=\"Difference of Euclidean distance and Manhattan distance.PNG\">"
   ]
  },
  {
   "cell_type": "code",
   "execution_count": 3,
   "metadata": {
    "collapsed": true
   },
   "outputs": [],
   "source": [
    "class Point_set:\n",
    "    #ADT Point Set Class: class for modeling a point set \n",
    "    \n",
    "    def __init__(self, val = []):   \n",
    "        #create a empty list if no list of points given \n",
    "\n",
    "        self.contents = list(set(val))  \n",
    "        #remove the duplicated points in the list   \n",
    "        \n",
    "        self.contents = sorted( self.contents, key=lambda x: x[0]) \n",
    "        #sorte the points in the list by x coordinate in ascending order\n",
    "        self.left = None \n",
    "        self.right = None\n",
    "        self.cen = None\n",
    "\n",
    "    def insert (self, px, py): \n",
    "        #insertion method to append new given points to the list \n",
    "        \n",
    "        if (px,py) not in self.contents:\n",
    "            self.point = Point (px,py)\n",
    "            self.contents.append((self.point.getX(),self.point.getY()))\n",
    "        \n",
    "        self.contents = sorted( self.contents, key=lambda x: x[0])\n",
    "        #sorte the points in the list by x coordinate in ascending order after new point been appended to the list\n",
    "        return self.contents\n",
    "    \n",
    "    def delete(self, px, py): \n",
    "        #dleletion method to remove points from the list \n",
    "        \n",
    "        if (px,py) in self.contents:\n",
    "            self.point = Point(px,py)\n",
    "            self.contents.remove((self.point.getX(),self.point.getY()))\n",
    "        return self.contents\n",
    "    \n",
    "    def closest_pair_dc(self): \n",
    "        #Divide & Conquer Implementation of finding the closest pair of points\n",
    "       \n",
    "        ln = len(self.contents) \n",
    "        #get number of total points \n",
    "        if ln <= 3: \n",
    "            #when points in the list less than or equal to 3, use Brute Force Implementation instead\n",
    "            return self.closest_pair_brute()\n",
    "        \n",
    "        #find middle point to split the points to two lists of points (left and right) \n",
    "        #and call recursively both lists after spliting\n",
    "        mid = ln // 2          \n",
    "        \n",
    "        self.left = Point_set(self.contents[:mid])\n",
    "        self.right = Point_set(self.contents[mid:])\n",
    "        \n",
    "        (p1, q1, mi1) = self.left.closest_pair_dc()\n",
    "        (p2, q2, mi2) = self.right.closest_pair_dc()\n",
    "        \n",
    "        #determine smaller distance between points in the two lists of points (left and right) \n",
    "        if mi1 <= mi2:  \n",
    "            #smaller distance with points\n",
    "            d = mi1               \n",
    "            mn = (p1, q1)        \n",
    "        \n",
    "        else:\n",
    "            #smaller distance with points\n",
    "            d = mi2               \n",
    "            mn = (p2, q2)        \n",
    "    \n",
    "        #call method to get smallest distance between points within the boundary of determined smaller distance\n",
    "        #(found in the Divide & Conquer Implementation) from middle point to the left and middle point to the right\n",
    "        self.cen = Point_set(self.contents)\n",
    "        (p3, q3, mi3) = self.cen.closest_split_pair(d, mn)\n",
    "        \n",
    "        #determine pair points with the smallest distance between in the points list\n",
    "        if d <= mi3:\n",
    "            #smaller distance is the smallest distance after compare\n",
    "            return mn[0], mn[1], d     \n",
    "        else:\n",
    "            #smallest distance is with one point in left and the other in right\n",
    "            return p3, q3, mi3        \n",
    "    \n",
    "    def closest_split_pair(self, d , best_pair): \n",
    "        #get smallest distance between points within the boundary\n",
    "        \n",
    "        #create a sublist of points not further than distance from midpoint on x-sorted list\n",
    "        ln = len(self.contents)\n",
    "        mid = ln // 2   \n",
    "        s_y = [ p for p in self.contents if p[0] >= self.contents[mid][0] - d and p[0] <= self.contents[mid][0] + d]\n",
    "        \n",
    "        s_y = sorted( s_y, key=lambda x: x[1])\n",
    "        # sorte the points in the sublist by y coordinate in ascending order\n",
    "       \n",
    "        #from the first points in the y-sorted sublist, check the distance of point with the next 11 points for each points\n",
    "        #in the list to get the smallest distance for a pair points in sublist \n",
    "        best = d\n",
    "        ln_y = len(s_y)  \n",
    "        for i in range(ln_y - 1):\n",
    "            for j in range(i+1, min(i + 11, ln_y)):\n",
    "                x,y = self.contents[i]\n",
    "                x1,y1 = self.contents[j]\n",
    "                a = Point(x,y)\n",
    "                b = Point(x1,y1)\n",
    "                dst = a.manHattan_distance(b) \n",
    "                if dst < best:\n",
    "                    best = dst\n",
    "                    best_pair = ((a.getX(),a.getY()), (b.getX(),b.getY()))\n",
    "        return best_pair[0], best_pair[1], best        \n",
    "                        \n",
    "    def closest_pair_brute(self):   \n",
    "        #Brute Force implementation to return the two closest pairs of points and the minDistance\n",
    "        \n",
    "        #computie the distances between all the pairs of points, then pick the pair with the smallest distance\n",
    "        x,y = self.contents[0]\n",
    "        x1,y1 = self.contents[1]\n",
    "        p = Point(x,y)\n",
    "        q = Point(x1,y1)\n",
    "        mi = p.manHattan_distance(q)  \n",
    "        px = p.getX()\n",
    "        py = p.getY()\n",
    "        qx = q.getX()\n",
    "        qy = q.getY()\n",
    "        ln = len(self.contents)\n",
    "        if ln == 2:\n",
    "            return (px,py), (qx,qy), mi\n",
    "        for i in range(ln-1):\n",
    "            for j in range(i+1, ln):\n",
    "                if i!=0 and j!=1:\n",
    "                    x,y = self.contents[i]\n",
    "                    x1,y1 = self.contents[j]\n",
    "                    a = Point(x,y)\n",
    "                    b = Point(x1,y1)\n",
    "                    d = a.manHattan_distance(b) \n",
    "                    if d < mi:\n",
    "                        mi = d\n",
    "                        px= a.getX()\n",
    "                        py= a.getY()\n",
    "                        qx= b.getX()\n",
    "                        qy= b.getY()\n",
    "                        mi = d\n",
    "        return (px,py), (qx,qy), mi #smallest distance with points"
   ]
  },
  {
   "cell_type": "markdown",
   "metadata": {},
   "source": [
    "* Test and output the result for two Implementations of finding cloest pair points"
   ]
  },
  {
   "cell_type": "code",
   "execution_count": 4,
   "metadata": {},
   "outputs": [
    {
     "name": "stdout",
     "output_type": "stream",
     "text": [
      "Divide & Conquer Implementation: Closest Pair: (58, -48) , (58, -45) with Manhattan distance = 3\n",
      "Brute Force Implementation: Closest Pair: (58, -45) , (58, -48) with Manhattan distance = 3\n"
     ]
    }
   ],
   "source": [
    "#generate points for testing the find closest pair function for both Implementations\n",
    "lst = [(random.randint(-100, 100) ,random.randint(-100, 100)) for i in range(100)]\n",
    "\n",
    "def find_closest_pair_points_burte(p_set):\n",
    "    a = Point_set(p_set)\n",
    "    ans = a.closest_pair_brute()\n",
    "    return ans\n",
    "\n",
    "def find_closest_pair_points_dc(p_set):\n",
    "    a = Point_set(p_set)\n",
    "    ans = a.closest_pair_dc()\n",
    "    return ans\n",
    "\n",
    "#output the result for Divide & Conquer Implementation\n",
    "ans = find_closest_pair_points_dc(lst)\n",
    "print (\"Divide & Conquer Implementation: Closest Pair:\", ans[0],\",\",ans[1], \"with Manhattan distance =\",str(ans[2]))\n",
    "\n",
    "#output the result for Brute Force Implementation\n",
    "ans = find_closest_pair_points_burte(lst)\n",
    "print (\"Brute Force Implementation: Closest Pair:\", ans[0],\",\",ans[1], \"with Manhattan distance =\",str(ans[2]))"
   ]
  },
  {
   "cell_type": "markdown",
   "metadata": {},
   "source": [
    "## Task 4.  Runtime Empirical Analysis"
   ]
  },
  {
   "cell_type": "code",
   "execution_count": 5,
   "metadata": {},
   "outputs": [
    {
     "data": {
      "image/png": "[encoded data removed]",
      "text/plain": [
       "<matplotlib.figure.Figure at 0x116a6f160>"
      ]
     },
     "metadata": {},
     "output_type": "display_data"
    }
   ],
   "source": [
    "def find_cloest_pair_points_brute(p_set):\n",
    "    a = Point_set(p_set)\n",
    "    ans = a.closest_pair_brute()\n",
    "    return ans\n",
    "\n",
    "def find_cloest_pair_points_dc(p_set):\n",
    "    a = Point_set(p_set)\n",
    "    ans = a.closest_pair_dc()\n",
    "    return ans\n",
    "\n",
    "#define function to run the Runtime - Empirical Analysis\n",
    "def empirical_runtime_evaluation(method):\n",
    "    x = []\n",
    "    y = []\n",
    "    for i in range (100, 5000, 490):\n",
    "        x.append(i)\n",
    "        lst = [(random.randint(-100, 100) ,random.randint(-100, 100)) for i in range(i)]\n",
    "        test_fn = method\n",
    "        t = Timer(lambda: test_fn(lst))\n",
    "        time = t.timeit(number=1)\n",
    "        y.append(time)\n",
    "    return x, y\n",
    "\n",
    "\n",
    "#output the result of Runtime - Empirical Analysis as graph \n",
    "plt.figure(figsize = (12, 6))\n",
    "x,y = empirical_runtime_evaluation(find_cloest_pair_points_brute) \n",
    "plt.plot(x, y ,'b',label=\"Burte Force\")\n",
    "\n",
    "x,y = empirical_runtime_evaluation(find_cloest_pair_points_dc) \n",
    "plt.plot(x, y ,'g',label=\"Divide and Conquer\")\n",
    "\n",
    "legend(bbox_to_anchor=(1.05, 1), loc=2, borderaxespad=0.)\n",
    "plt.xlabel('Number of points')\n",
    "plt.ylabel('Runtime')\n",
    "plt.title('Empirical Runtime Evaluation')\n",
    "plt.show()"
   ]
  },
  {
   "cell_type": "markdown",
   "metadata": {},
   "source": [
    "## Task 5.  Recurrence Relation"
   ]
  },
  {
   "cell_type": "markdown",
   "metadata": {},
   "source": [
    "* The runtime recurrence relation for Divide and Conquer algorithm of finding closest pair point by passing sorted lists down the recursion is:\n",
    "\n",
    "      T(n) = 2T(n/2)+ O(n)\n",
    "           = O(nlogn)\n",
    "\n",
    "\n",
    "* The runtime recurrence relation for Divide and Conquer algorithm of finding closest pair point that list sorted on each level of the recursion is:\n",
    "\n",
    "      T(n) = 2T(n/2) + 2T(n/2) + O(n)\n",
    "           = 2T(n/2) + O(nlogn)\n"
   ]
  },
  {
   "cell_type": "code",
   "execution_count": null,
   "metadata": {
    "collapsed": true
   },
   "outputs": [],
   "source": []
  }
 ],
 "metadata": {
  "kernelspec": {
   "display_name": "Python 3",
   "language": "python",
   "name": "python3"
  },
  "language_info": {
   "codemirror_mode": {
    "name": "ipython",
    "version": 3
   },
   "file_extension": ".py",
   "mimetype": "text/x-python",
   "name": "python",
   "nbconvert_exporter": "python",
   "pygments_lexer": "ipython3",
   "version": "3.6.7"
  }
 },
 "nbformat": 4,
 "nbformat_minor": 2
}
