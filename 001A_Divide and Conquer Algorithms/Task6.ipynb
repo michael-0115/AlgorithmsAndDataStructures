{
 "cells": [
  {
   "cell_type": "markdown",
   "metadata": {},
   "source": [
    "# Find the closest pair of points in a set of points in 2-dimensional Euclidean space by using Manhattan Distance \n",
    "\n",
    "## Please noted all the code are written in Python 3.0 in jupyter notebook "
   ]
  },
  {
   "cell_type": "markdown",
   "metadata": {},
   "source": [
    "## Task 6.  (Bonus) Visualization\n",
    " Visualisation by using Bokeh, a Python library."
   ]
  },
  {
   "cell_type": "markdown",
   "metadata": {},
   "source": [
    "### Step 1. Import the package needed"
   ]
  },
  {
   "cell_type": "code",
   "execution_count": 1,
   "metadata": {
    "collapsed": true
   },
   "outputs": [],
   "source": [
    "from math import *\n",
    "\n",
    "from matplotlib import pyplot as plt\n",
    "from matplotlib.pyplot import *\n",
    "matplotlib.style.use(\"ggplot\")\n",
    "\n",
    "import pandas as pd\n",
    "import random\n",
    "\n",
    "from timeit import Timer\n",
    "import timeit\n",
    "\n",
    "from bokeh.models import Label\n",
    "from bokeh.plotting import figure, output_notebook, show\n",
    "from bokeh.charts import Scatter, show\n",
    "from bokeh.models import Span\n",
    "from bokeh.palettes import Category20"
   ]
  },
  {
   "cell_type": "markdown",
   "metadata": {},
   "source": [
    "### Step 2. Add code for call functions outside Point set class for visualizing the search process "
   ]
  },
  {
   "cell_type": "code",
   "execution_count": 2,
   "metadata": {
    "collapsed": true
   },
   "outputs": [],
   "source": [
    "class Point: \n",
    "\n",
    "    def __init__(self, x, y):  \n",
    "        self.x = x\n",
    "        self.y = y\n",
    "\n",
    "    def getX(self):\n",
    "        return self.x\n",
    "\n",
    "    def getY(self):\n",
    "        return self.y\n",
    "    \n",
    "    def manHattan_distance(self, other):\n",
    "        d = abs(other.x - self.x) + abs(other.y - self.y)  \n",
    "        return d\n",
    "    \n",
    "    def __str__(self):\n",
    "        return \"x=\" + str(self.x) + \", y=\" + str(self.y)\n",
    "    \n",
    "class Point_set:\n",
    "    \n",
    "    def __init__(self, val = []): \n",
    "        self.contents = list(set(val)) \n",
    "        self.contents = sorted( self.contents, key=lambda x: x[0]) \n",
    "        self.left = None \n",
    "        self.right = None\n",
    "        self.cen = None\n",
    "\n",
    "    def insert (self, px, py): \n",
    "        if (px,py) not in self.contents:\n",
    "            self.point = Point (px,py)\n",
    "            self.contents.append((self.point.getX(),self.point.getY()))\n",
    "        self.contents = sorted( self.contents, key=lambda x: x[0])\n",
    "        return self.contents\n",
    "    \n",
    "    def delete(self, px, py):\n",
    "        if (px,py) in self.contents:\n",
    "            self.point = Point(px,py)\n",
    "            self.contents.remove((self.point.getX(),self.point.getY()))\n",
    "        return self.contents\n",
    "    \n",
    "    def closest_pair_dc(self): \n",
    "        ln = len(self.contents) \n",
    "        if ln <= 3: \n",
    "            return self.closest_pair_brute()\n",
    "        \n",
    "        mid = ln // 2    \n",
    "        #visualization, print points splitlines\n",
    "        splitlines(self.contents[mid][0])\n",
    "        \n",
    "        self.left = Point_set(self.contents[:mid])\n",
    "        self.right = Point_set(self.contents[mid:])\n",
    "        \n",
    "        (p1, q1, mi1) = self.left.closest_pair_dc()\n",
    "        (p2, q2, mi2) = self.right.closest_pair_dc()\n",
    "        \n",
    "        if mi1 <= mi2:  \n",
    "            d = mi1               \n",
    "            mn = (p1, q1)\n",
    "            #visualization, print point distance line\n",
    "            p_line(p1[0], q1[0] ,p1[1],q1[1],d)  \n",
    "        else:\n",
    "            d = mi2               \n",
    "            mn = (p2, q2)        \n",
    "            #visualization, print point distance line   \n",
    "            p_line(p2[0], q2[0] ,p2[1],q2[1],d)  \n",
    "       \n",
    "        self.cen = Point_set(self.contents)\n",
    "        (p3, q3, mi3) = self.cen.closest_split_pair(d, mn)\n",
    "        \n",
    "        if d <= mi3:\n",
    "            return mn[0], mn[1], d     \n",
    "        else:\n",
    "            #visualization, print point distance line\n",
    "            p_line(p3[0], q3[0] ,p3[1],q3[1], mi3)\n",
    "            return p3, q3, mi3        \n",
    "    \n",
    "    def closest_split_pair(self, d , best_pair): \n",
    "        ln = len(self.contents)\n",
    "        mid = ln // 2   \n",
    "        s_y = [ p for p in self.contents if p[0] >= self.contents[mid][0] - d and p[0] <= self.contents[mid][0] + d]\n",
    "        s_y = sorted( s_y, key=lambda x: x[1])\n",
    "    \n",
    "        best = d\n",
    "        ln_y = len(s_y)  \n",
    "        for i in range(ln_y - 1):\n",
    "            for j in range(i+1, min(i + 11, ln_y)):\n",
    "                x,y = self.contents[i]\n",
    "                x1,y1 = self.contents[j]\n",
    "                a = Point(x,y)\n",
    "                b = Point(x1,y1)\n",
    "                dst = a.manHattan_distance(b) \n",
    "                if dst < best:\n",
    "                    best = dst\n",
    "                    best_pair = ((a.getX(),a.getY()), (b.getX(),b.getY()))\n",
    "        return best_pair[0], best_pair[1], best        \n",
    "                        \n",
    "    def closest_pair_brute(self):   \n",
    "        x,y = self.contents[0]\n",
    "        x1,y1 = self.contents[1]\n",
    "        p = Point(x,y)\n",
    "        q = Point(x1,y1)\n",
    "        mi = p.manHattan_distance(q)  \n",
    "        px = p.getX()\n",
    "        py = p.getY()\n",
    "        qx = q.getX()\n",
    "        qy = q.getY()\n",
    "        ln = len(self.contents)\n",
    "        if ln == 2:\n",
    "            return (px,py), (qx,qy), mi\n",
    "        for i in range(ln-1):\n",
    "            for j in range(i+1, ln):\n",
    "                if i!=0 and j!=1:\n",
    "                    x,y = self.contents[i]\n",
    "                    x1,y1 = self.contents[j]\n",
    "                    a = Point(x,y)\n",
    "                    b = Point(x1,y1)\n",
    "                    d = a.manHattan_distance(b) \n",
    "                    if d < mi:\n",
    "                        mi = d\n",
    "                        px= a.getX()\n",
    "                        py= a.getY()\n",
    "                        qx= b.getX()\n",
    "                        qy= b.getY()\n",
    "                        mi = d\n",
    "        return (px,py), (qx,qy), mi "
   ]
  },
  {
   "cell_type": "markdown",
   "metadata": {},
   "source": [
    "### Step 3. Define Functions for visualization\n",
    "1. Visualize the point sets\n",
    "2. Visualize the splitlines\n",
    "3. Visualize ultimately the results"
   ]
  },
  {
   "cell_type": "code",
   "execution_count": 3,
   "metadata": {
    "collapsed": true
   },
   "outputs": [],
   "source": [
    "# function for splitlines\n",
    "def splitlines(x):\n",
    "    line = Span(location=x,\n",
    "                dimension='height', line_color=Category20[20][5],\n",
    "                line_dash='dashed', line_width=3)\n",
    "    return pp.add_layout(line)\n",
    "\n",
    "\n",
    "# function for Manhattan Distance line with pair points\n",
    "def p_line(p1x, p2x, p1y, p2y, dist):\n",
    "    line1 = pp.line([p1x, p2x], [p1y, p1y], line_width=2,line_color=\"pink\")\n",
    "    line2 = pp.line([p2x, p2x], [p2y, p1y], line_width=2,line_color=\"pink\")\n",
    "    text = str(dist)\n",
    "    mytext = Label(x=p1x, y=p1y, text= text ,text_color = \"orange\")\n",
    "    d =  pp.add_layout(mytext)\n",
    "    return line1 ,line2, d\n",
    "\n",
    "\n",
    "# function for execute the searching and visualization of find closest pair points by Brute Force Implementation\n",
    "def find_closest_pair_points_brute(p_set):\n",
    "    a = Point_set(p_set)\n",
    "    ans = a.closest_pair_brute()\n",
    "    #distance and point set for ultimately the results\n",
    "    line1 = pp.line([ans[0][0],ans[1][0]], [ans[0][1], ans[0][1]], line_width=2)\n",
    "    line2 = pp.line([ans[1][0],ans[1][0]], [ans[1][1], ans[0][1]], line_width=2)\n",
    "    text = \"(\"+ str(ans[0][0])+\" , \"+ str(ans[0][1])+\") to (\"+ str(ans[1][0])+\" , \"+str(ans[1][1])+\")\"\n",
    "    mytext1 = Label(x=ans[1][0], y=ans[1][1], text= text, angle=-100)\n",
    "    mytext2 = Label(x=ans[0][0], y=ans[0][1], text= str(ans[2]))\n",
    "    \n",
    "    d1 =  pp.add_layout(mytext1)\n",
    "    d2 =  pp.add_layout(mytext2)\n",
    "    return ans, line1 ,line2, d1, d2\n",
    "\n",
    "\n",
    "# function for execute the searching and visualization of find closest pair points by Divide & Conquer Implementation\n",
    "def find_closest_pair_points_dc(p_set):\n",
    "    a = Point_set(p_set)\n",
    "    ans = a.closest_pair_dc()\n",
    "    #distance and point set for ultimately the results\n",
    "    line1 = pp.line([ans[0][0],ans[1][0]], [ans[0][1], ans[0][1]], line_width=2)\n",
    "    line2 = pp.line([ans[1][0],ans[1][0]], [ans[1][1], ans[0][1]], line_width=2)\n",
    "    text = \"(\"+ str(ans[0][0])+\" , \"+ str(ans[0][1])+\") to (\"+ str(ans[1][0])+\" , \"+str(ans[1][1])+\")\"\n",
    "    mytext1 = Label(x=(ans[1][0]+2), y=ans[1][1], text= text, angle=-100)\n",
    "    mytext2 = Label(x=ans[0][0], y=ans[0][1], text= str(ans[2]))\n",
    "\n",
    "    d1 =  pp.add_layout(mytext1)\n",
    "    d2 =  pp.add_layout(mytext2)\n",
    "    return ans, line1 ,line2, d1, d2"
   ]
  },
  {
   "cell_type": "markdown",
   "metadata": {},
   "source": [
    "### Step 4. Visualization for Brute Force Implementation"
   ]
  },
  {
   "cell_type": "code",
   "execution_count": 4,
   "metadata": {
    "collapsed": true
   },
   "outputs": [],
   "source": [
    "#generate 50 pairs of points  \n",
    "pointSet = [(random.randint(0, 100) ,random.randint(0, 100)) for i in range(50)]\n",
    "\n",
    "#draw all points\n",
    "x = [ item[0] for item in pointSet]\n",
    "y = [ item[1] for item in pointSet]\n",
    "cars_df = pd.DataFrame( {\"x\": x, \"y\": y})\n",
    "pp = Scatter(cars_df, x = \"x\", y = \"y\",title=\"Closest Pair Points, Divide & Conquer Implementation\")\n",
    "\n",
    "#call function to do Visualization for Divide & Conquer Implementation\n",
    "answer =(find_closest_pair_points_brute(pointSet))\n",
    "show(pp)"
   ]
  },
  {
   "cell_type": "markdown",
   "metadata": {},
   "source": [
    "<img src=\"brute-forcealgorithm.PNG\">"
   ]
  },
  {
   "cell_type": "markdown",
   "metadata": {},
   "source": [
    "### Step 5. Visualization for Divide & Conquer Implementation"
   ]
  },
  {
   "cell_type": "code",
   "execution_count": 5,
   "metadata": {},
   "outputs": [],
   "source": [
    "#generate 50 pairs of points  \n",
    "pointSet = [(random.randint(0, 100) ,random.randint(0, 100)) for i in range(50)]\n",
    "\n",
    "#draw all points\n",
    "x = [ item[0] for item in pointSet]\n",
    "y = [ item[1] for item in pointSet]\n",
    "cars_df = pd.DataFrame( {\"x\": x, \"y\": y})\n",
    "pp = Scatter(cars_df, x = \"x\", y = \"y\", title=\"Closest Pair Points, Brute Force Implementation\")\n",
    "\n",
    "#call function to do Visualization for Brute Force Implementation\n",
    "find_closest_pair_points_dc(pointSet)\n",
    "show(pp)"
   ]
  },
  {
   "attachments": {},
   "cell_type": "markdown",
   "metadata": {},
   "source": [
    "<img src=\"divide-and-conqueralgorithm.PNG\">"
   ]
  },
  {
   "cell_type": "code",
   "execution_count": null,
   "metadata": {
    "collapsed": true
   },
   "outputs": [],
   "source": []
  }
 ],
 "metadata": {
  "kernelspec": {
   "display_name": "Python 3",
   "language": "python",
   "name": "python3"
  },
  "language_info": {
   "codemirror_mode": {
    "name": "ipython",
    "version": 3
   },
   "file_extension": ".py",
   "mimetype": "text/x-python",
   "name": "python",
   "nbconvert_exporter": "python",
   "pygments_lexer": "ipython3",
   "version": "3.6.7"
  }
 },
 "nbformat": 4,
 "nbformat_minor": 2
}
