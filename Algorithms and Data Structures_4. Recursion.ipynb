{
 "cells": [
  {
   "cell_type": "code",
   "execution_count": null,
   "metadata": {},
   "outputs": [],
   "source": []
  },
  {
   "cell_type": "markdown",
   "metadata": {},
   "source": [
    "Like the robots of Asimov, all recursive algorithms must obey three important laws:\n",
    "\n",
    "1. A recursive algorithm must have a base case.\n",
    "2. A recursive algorithm must change its state and move toward the base case.\n",
    "3. A recursive algorithm must call itself, recursively."
   ]
  },
  {
   "cell_type": "code",
   "execution_count": 1,
   "metadata": {},
   "outputs": [
    {
     "name": "stdout",
     "output_type": "stream",
     "text": [
      "5AD\n"
     ]
    }
   ],
   "source": [
    "#4.5. Converting an Integer to a String in Any Base using recursion\n",
    "\n",
    "def toStr (n, base):\n",
    "    convertString = \"0123456789ABCDEF\"\n",
    "    \n",
    "    if n < base:\n",
    "        return convertString[n]\n",
    "    else:\n",
    "        return toStr(n//base, base) + convertString[n%base]\n",
    "\n",
    "\n",
    "print(toStr(1453,16))"
   ]
  },
  {
   "cell_type": "code",
   "execution_count": 8,
   "metadata": {},
   "outputs": [
    {
     "name": "stdout",
     "output_type": "stream",
     "text": [
      "FEDCBA\n"
     ]
    }
   ],
   "source": [
    "#Write a function that takes a string as a parameter and returns a new string that is the reverse of the old string.\n",
    "def toS (n):\n",
    "    if len(n) <= 1:\n",
    "        return str(n)\n",
    "    else:\n",
    "        return toS(n[1:]) + str(n[0])\n",
    "\n",
    "print(toS(\"ABCDEF\"))"
   ]
  },
  {
   "cell_type": "code",
   "execution_count": null,
   "metadata": {},
   "outputs": [],
   "source": [
    "#4.10. Tower of Hanoi \n",
    "# key: stack a smaller question by using recursion to get the final result\n",
    "def moveTower(height,fromPole, toPole, withPole):\n",
    "    if height >= 1:\n",
    "        moveTower(height-1,fromPole,withPole,toPole)\n",
    "        moveDisk(fromPole,toPole)\n",
    "        moveTower(height-1,withPole,toPole,fromPole)\n",
    "\n",
    "def moveDisk(fp,tp):\n",
    "    print(\"moving disk from\",fp,\"to\",tp)\n",
    "\n",
    "moveTower(5,\"A\",\"B\",\"C\")\n"
   ]
  },
  {
   "cell_type": "markdown",
   "metadata": {},
   "source": [
    "#### Dynamic Programming\n",
    "1. Recursion \n",
    "2. Memoization\n",
    "3. Bottom-up"
   ]
  },
  {
   "cell_type": "code",
   "execution_count": 28,
   "metadata": {},
   "outputs": [
    {
     "name": "stdout",
     "output_type": "stream",
     "text": [
      "6765\n"
     ]
    }
   ],
   "source": [
    "#Using Dynamic Programming\n",
    "#Top-Down Approach Approach with Memoization\n",
    "F = [-1]*50 #array to store fibonacci terms\n",
    "\n",
    "def dynamic_fibonacci(n):\n",
    "    if (F[n] < 0):\n",
    "        if (n==0):\n",
    "            F[n] = 0\n",
    "        elif (n == 1):\n",
    "            F[n] = 1\n",
    "        else:\n",
    "            F[n] = dynamic_fibonacci(n-1) + dynamic_fibonacci(n-2)\n",
    "    return F[n]\n",
    "\n",
    "if __name__ == '__main__':\n",
    "    print(dynamic_fibonacci(20))\n"
   ]
  },
  {
   "cell_type": "code",
   "execution_count": 29,
   "metadata": {},
   "outputs": [
    {
     "name": "stdout",
     "output_type": "stream",
     "text": [
      "6765\n"
     ]
    }
   ],
   "source": [
    "#Using Dynamic Programming \n",
    "# Bottom-Up Approach with Tabulation\n",
    "F = [0]*50 #array to store fibonacci terms\n",
    "\n",
    "def fibonacci_bottom_up(n):\n",
    "    F[0] = 0\n",
    "    F[1] = 1\n",
    "    for i in range(2, n+1):\n",
    "        F[i] = F[i-1] + F[i-2]\n",
    "    return F[n]\n",
    "\n",
    "if __name__ == '__main__':\n",
    "    print(fibonacci_bottom_up(20))"
   ]
  },
  {
   "cell_type": "markdown",
   "metadata": {},
   "source": [
    "Sum:\n",
    "\n",
    "Memoization V/S Tabulation\n",
    "Memoization is indeed the natural way of solving a problem, so coding is easier in memoization when we deal with a complex problem. Coming up with a specific order while dealing with lot of conditions might be difficult in the tabulation.\n",
    "\n",
    "Also think about a case when we don't need to find the solutions of all the subproblems. In that case, we would prefer to use the memoization instead.\n",
    "\n",
    "However, when a lot of recursive calls are required, memoization may cause memory problems because it might have stacked the recursive calls to find the solution of the deeper recursive call but we won't deal with this problem in tabulation.\n",
    "\n",
    "Generally, memoization is also slower than tabulation because of the large recursive calls."
   ]
  },
  {
   "cell_type": "markdown",
   "metadata": {},
   "source": [
    "#### Find some exercises"
   ]
  }
 ],
 "metadata": {
  "kernelspec": {
   "display_name": "Python 3",
   "language": "python",
   "name": "python3"
  },
  "language_info": {
   "codemirror_mode": {
    "name": "ipython",
    "version": 3
   },
   "file_extension": ".py",
   "mimetype": "text/x-python",
   "name": "python",
   "nbconvert_exporter": "python",
   "pygments_lexer": "ipython3",
   "version": "3.6.7"
  }
 },
 "nbformat": 4,
 "nbformat_minor": 2
}
